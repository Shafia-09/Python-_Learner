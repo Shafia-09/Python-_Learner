{
  "nbformat": 4,
  "nbformat_minor": 0,
  "metadata": {
    "colab": {
      "provenance": [],
      "authorship_tag": "ABX9TyMih1qGTAUxmL6YMJA0JsLJ",
      "include_colab_link": true
    },
    "kernelspec": {
      "name": "python3",
      "display_name": "Python 3"
    },
    "language_info": {
      "name": "python"
    }
  },
  "cells": [
    {
      "cell_type": "markdown",
      "metadata": {
        "id": "view-in-github",
        "colab_type": "text"
      },
      "source": [
        "<a href=\"https://colab.research.google.com/github/Shafia-09/Python_Learner/blob/main/Day_3_Assesment_1.ipynb\" target=\"_parent\"><img src=\"https://colab.research.google.com/assets/colab-badge.svg\" alt=\"Open In Colab\"/></a>"
      ]
    },
    {
      "cell_type": "markdown",
      "source": [
        "Problem 1\n",
        "Create a dictionary where the keys correspond to the area of a flat adn value for each is the price of the house for 10 flat in kompally\n",
        "HInt: area_price = {area:price}"
      ],
      "metadata": {
        "id": "I242Tws_6gdu"
      }
    },
    {
      "cell_type": "code",
      "source": [
        "area_price = {\n",
        "    '800 sqft': 3000000,\n",
        "    '900 sqft': 3500000,\n",
        "    '1000 sqft': 4000000,\n",
        "    '1100 sqft': 4500000,\n",
        "    '1200 sqft': 5000000,\n",
        "    '1300 sqft': 5500000,\n",
        "    '1400 sqft': 6000000,\n",
        "    '1500 sqft': 6500000,\n",
        "    '1600 sqft': 7000000,\n",
        "    '1700 sqft': 8000000\n",
        "}"
      ],
      "metadata": {
        "id": "PydtaIwhOUV3"
      },
      "execution_count": null,
      "outputs": []
    },
    {
      "cell_type": "markdown",
      "source": [
        "Now broker predicts the price as can be written as : predicted_price(area) = 0.06*area + 15"
      ],
      "metadata": {
        "id": "pTZaV41pz1N5"
      }
    },
    {
      "cell_type": "code",
      "source": [
        "house_areas = ['800 sqft', '900 sqft', '1000 sqft', '1100 sqft', '1200 sqft',\n",
        "              '1300 sqft', '1400 sqft', '1500 sqft', '1600 sqft', '1700 sqft']\n",
        "def predicted_price(area):\n",
        "    return 0.06 * int(area[:-5]) + 15"
      ],
      "metadata": {
        "id": "1zqBrRv7z_pv"
      },
      "execution_count": null,
      "outputs": []
    },
    {
      "cell_type": "markdown",
      "source": [
        "Use list comprehension to store the predicted house prices in a list"
      ],
      "metadata": {
        "id": "B-1nU1s45yzS"
      }
    },
    {
      "cell_type": "code",
      "source": [
        "predicted_prices = [predicted_price(area) for area in house_areas]\n",
        "# Print the list of predicted flat prices\n",
        "print(predicted_prices)"
      ],
      "metadata": {
        "colab": {
          "base_uri": "https://localhost:8080/"
        },
        "id": "MR_wHR5o56Kc",
        "outputId": "90cd54ff-a995-4ecb-8b37-dc4a35fa8009"
      },
      "execution_count": null,
      "outputs": [
        {
          "output_type": "stream",
          "name": "stdout",
          "text": [
            "[63.0, 69.0, 75.0, 81.0, 87.0, 93.0, 99.0, 105.0, 111.0, 117.0]\n"
          ]
        }
      ]
    },
    {
      "cell_type": "markdown",
      "source": [
        "Create another list which contains the squares of differences of each element of the two price lists : the actual prices and the predicted prices"
      ],
      "metadata": {
        "id": "pEEIS0iZ6Afw"
      }
    },
    {
      "cell_type": "code",
      "source": [
        "actual_prices = [4500000, 5000000, 5500000, 6000000, 6500000,\n",
        "                 7000000, 7500000, 8000000, 8500000, 9000000]\n",
        "squares_of_differences = [(actual - predicted) ** 2 for actual, predicted in zip(actual_prices, predicted_prices)]\n",
        "print(squares_of_differences)"
      ],
      "metadata": {
        "colab": {
          "base_uri": "https://localhost:8080/"
        },
        "id": "y9m0O8Sl6Fh-",
        "outputId": "fc851ef4-1a7b-497c-c484-a0a61352a10e"
      },
      "execution_count": null,
      "outputs": [
        {
          "output_type": "stream",
          "name": "stdout",
          "text": [
            "[20249433003969.0, 24999310004761.0, 30249175005625.0, 35999028006561.0, 42248869007569.0, 48998698008649.0, 56248515009801.0, 63998320011025.0, 72248113012321.0, 80997894013689.0]\n"
          ]
        }
      ]
    },
    {
      "cell_type": "markdown",
      "source": [
        "Problem 2\n",
        "A sigmoid function is a mathematical function having a characteristic \"S\"-shaped curve or sigmoid curve. A common example of a sigmoid function is the logistic function shown in the first figure and defined by the formula:\n",
        "h(x)=1/1 + e^-x\n",
        "\n",
        "Range is defined as all the possible values which the function  h(x)  can take. Domain is defined as all the possible values which  x  can take. In this case, range of the function is between 0 to 1 and the domain of the function is all real numbers"
      ],
      "metadata": {
        "id": "CwCfYYBC6smc"
      }
    },
    {
      "cell_type": "code",
      "source": [
        "# Sigmoid function lambda definition\n",
        "sigmoid = lambda x: 1 / (1 + 2.71828 ** -x)\n",
        "\n",
        "# Given list of values of x\n",
        "x_values = [-2, -1, 0, 1, 2]\n",
        "\n",
        "# List comprehension to calculate sigmoid transformation for each x\n",
        "sigmoid_values = [sigmoid(x) for x in x_values]\n",
        "\n",
        "# List comprehension for boolean values based on sigmoid range\n",
        "boolean_values = [(0 <= sigmoid(x) <= 1) for x in x_values]\n",
        "\n",
        "# List comprehension for values greater than 0.5\n",
        "greater_than_half = [sigmoid(x) for x in x_values if sigmoid(x) > 0.5]\n",
        "\n",
        "# Print the results\n",
        "print(\"Sigmoid values:\", sigmoid_values)\n",
        "print(\"Boolean values:\", boolean_values)\n",
        "print(\"Values greater than 0.5:\", greater_than_half)"
      ],
      "metadata": {
        "id": "EpXiMuYa15oq",
        "colab": {
          "base_uri": "https://localhost:8080/"
        },
        "outputId": "ab7b5d1b-3449-4c79-e1d8-0645b1344918"
      },
      "execution_count": 15,
      "outputs": [
        {
          "output_type": "stream",
          "name": "stdout",
          "text": [
            "Sigmoid values: [0.11920306327063111, 0.26894155362156696, 0.5, 0.731058446378433, 0.880796936729369]\n",
            "Boolean values: [True, True, True, True, True]\n",
            "Values greater than 0.5: [0.731058446378433, 0.880796936729369]\n"
          ]
        }
      ]
    },
    {
      "cell_type": "markdown",
      "source": [
        "Problem 3 You are given a sentence : \"I have been walking and running and dancing and smiling and laughing all my life, yet it all seems pointless. So i stoped thinking and started doing\"\n",
        "You are required to extract all those words from this sentence in a list which ends with ing"
      ],
      "metadata": {
        "id": "mXdu5iIY7Epq"
      }
    },
    {
      "cell_type": "code",
      "execution_count": null,
      "metadata": {
        "colab": {
          "base_uri": "https://localhost:8080/"
        },
        "id": "CKlwazdjKJMP",
        "outputId": "2dbb91cf-46d7-4b06-b867-2b2c3775df19"
      },
      "outputs": [
        {
          "output_type": "stream",
          "name": "stdout",
          "text": [
            "['walking', 'running', 'dancing', 'smiling', 'laughing', 'thinking', 'doing']\n"
          ]
        }
      ],
      "source": [
        "sentence = \"I have been walking and running and dancing and smiling and laughing all my life, yet it all seems pointless. So i stoped thinking and started doing\"\n",
        "# Split the sentence into words\n",
        "words = sentence.split()\n",
        "# Extract words ending with 'ing'\n",
        "ing_words = [word.strip(\",.\") for word in words if word.endswith('ing')]\n",
        "print(ing_words)"
      ]
    },
    {
      "cell_type": "markdown",
      "source": [
        "Problem 4 Natural Language Processing or NLP is one of the most promising fields in Machine Learning. Most of the times in NLP we deal with the textual data (a bunch of strings). Sometimes when we are processing the text, it is a common practice to get rid of some set of stop words from our original text. By default stop words are very common words used in English language such as and, or, punctuations etc.\n",
        "In this exercise, you are provided with a default set of stop words and you need to add some extra set of custom words and remove these words from the given sentence and obtain the sentence without the stop words"
      ],
      "metadata": {
        "id": "3GeklsNG7PIq"
      }
    },
    {
      "cell_type": "code",
      "source": [
        "# A sample sentence\n",
        "sentence=\"The sun hung low in the sky, casting long shadows across the rolling hills. Birds chirped merrily as they flitted from tree to tree, their songs filling the air with joy. A gentle breeze rustled the leaves, carrying with it the sweet scent of wildflowers. In the distance, a river meandered lazily through the valley, its waters shimmering in the golden light. Along its banks, tall grasses swayed in the wind, whispering secrets to the passing clouds. The world seemed to pause in that moment, as if holding its breath in anticipation of something magical. And indeed, there was magic all around, woven into the very fabric of nature itself. Each blade of grass, each petal of a flower, seemed to dance with life, imbued with a sense of wonder and awe. It was a scene straight out of a fairy tale, where dreams and reality intertwined in a beautiful tapestry of existence.\"\n",
        "# Print your sentence\n",
        "print(sentence)"
      ],
      "metadata": {
        "id": "IpR1mGGW18uE",
        "colab": {
          "base_uri": "https://localhost:8080/"
        },
        "outputId": "11f50681-3da3-4b43-a9c7-176c9f9f3913"
      },
      "execution_count": 7,
      "outputs": [
        {
          "output_type": "stream",
          "name": "stdout",
          "text": [
            "The sun hung low in the sky, casting long shadows across the rolling hills. Birds chirped merrily as they flitted from tree to tree, their songs filling the air with joy. A gentle breeze rustled the leaves, carrying with it the sweet scent of wildflowers. In the distance, a river meandered lazily through the valley, its waters shimmering in the golden light. Along its banks, tall grasses swayed in the wind, whispering secrets to the passing clouds. The world seemed to pause in that moment, as if holding its breath in anticipation of something magical. And indeed, there was magic all around, woven into the very fabric of nature itself. Each blade of grass, each petal of a flower, seemed to dance with life, imbued with a sense of wonder and awe. It was a scene straight out of a fairy tale, where dreams and reality intertwined in a beautiful tapestry of existence.\n"
          ]
        }
      ]
    },
    {
      "cell_type": "code",
      "source": [
        "# Default set of stop words\n",
        "stop_words = {\"i\", \"me\", \"my\", \"myself\", \"we\", \"our\", \"ours\", \"ourselves\", \"you\", \"your\", \"yours\", \"yourself\",\n",
        "              \"yourselves\", \"he\", \"him\", \"his\", \"himself\", \"she\", \"her\", \"hers\", \"herself\", \"it\", \"its\", \"itself\",\n",
        "              \"they\", \"them\", \"their\", \"theirs\", \"themselves\", \"what\", \"which\", \"who\", \"whom\", \"this\", \"that\",\n",
        "              \"these\", \"those\", \"am\", \"is\", \"are\", \"was\", \"were\", \"be\", \"been\", \"being\", \"have\", \"has\", \"had\",\n",
        "              \"having\", \"do\", \"does\", \"did\", \"doing\", \"a\", \"an\", \"the\", \"and\", \"but\", \"if\", \"or\", \"because\",\n",
        "              \"as\", \"until\", \"while\", \"of\", \"at\", \"by\", \"for\", \"with\", \"about\", \"against\", \"between\", \"into\",\n",
        "              \"through\", \"during\", \"before\", \"after\", \"above\", \"below\", \"to\", \"from\", \"up\", \"down\", \"in\", \"out\",\n",
        "              \"on\", \"off\", \"over\", \"under\", \"again\", \"further\", \"then\", \"once\", \"here\", \"there\", \"when\", \"where\",\n",
        "              \"why\", \"how\", \"all\", \"any\", \"both\", \"each\", \"few\", \"more\", \"most\", \"other\", \"some\", \"such\", \"no\",\n",
        "              \"nor\", \"not\", \"only\", \"own\", \"same\", \"so\", \"than\", \"too\", \"very\", \"s\", \"t\", \"can\", \"will\", \"just\",\n",
        "              \"don\", \"should\", \"now\"}"
      ],
      "metadata": {
        "id": "zOm6o-QK8stx"
      },
      "execution_count": 8,
      "outputs": []
    },
    {
      "cell_type": "code",
      "source": [
        "custom_stop_words = {\"hello\",\"folks\",\"good\",\"morning\",\"half\",\"year\"}\n",
        "stop = stop_words.union(custom_stop_words)\n",
        "print(stop_words)"
      ],
      "metadata": {
        "colab": {
          "base_uri": "https://localhost:8080/"
        },
        "id": "tiU2H52u84LV",
        "outputId": "6179e71f-3c0a-44e9-873f-9d012d94c677"
      },
      "execution_count": 9,
      "outputs": [
        {
          "output_type": "stream",
          "name": "stdout",
          "text": [
            "{'up', 'their', 'further', 'against', 'does', 'just', 'those', 'but', 'other', 'into', 'until', 'whom', 'as', 'there', 'again', 'hers', 'myself', 'them', 'some', 'you', 'theirs', 'most', 'her', 'now', 'once', 'we', 'doing', 'will', 'over', 'to', 'themselves', 'such', 'having', 'why', 'being', 'she', 'so', 'these', 'my', 'above', 'if', 'your', 'with', 'under', 'all', 'while', 'not', 'are', 'a', 'ours', 't', 'here', 'am', 'our', 'because', 'had', 'few', 'don', 'any', 'than', 'yourselves', 'and', 'which', 'for', 'own', 'was', 'very', 'before', 'who', 'ourselves', 'me', 'an', 'have', 'when', 'do', 'should', 'about', 'in', 'or', 'from', 'this', 'too', 'of', 'i', 'that', 'through', 'can', 'himself', 'then', 'below', 'it', 'its', 'on', 'each', 'herself', 'were', 'did', 'same', 'him', 'itself', 'after', 'yours', 'the', 'both', 'yourself', 'no', 'out', 'nor', 'has', 'they', 'where', 'only', 'is', 'his', 'be', 'down', 's', 'more', 'he', 'by', 'between', 'what', 'during', 'been', 'at', 'how', 'off'}\n"
          ]
        }
      ]
    },
    {
      "cell_type": "code",
      "source": [
        "# Create the list of words in the given sentence.\n",
        "a = sentence.split()"
      ],
      "metadata": {
        "id": "2fbWzk7m9Nro"
      },
      "execution_count": 11,
      "outputs": []
    },
    {
      "cell_type": "code",
      "source": [
        "# Use list comprehension to remove the set of updated stop words from the list of words\n",
        "b = [word for word in a if word.lower() not in stop]"
      ],
      "metadata": {
        "id": "pOBbB7x_9VfW"
      },
      "execution_count": 12,
      "outputs": []
    },
    {
      "cell_type": "code",
      "source": [
        "# Finally using the join() method, get the sentence without the stop words. Keep in mind that every word in the sentence will be separated by space\n",
        "new_sentence = ' '.join(b)\n",
        "# Print the modified sentence\n",
        "print(new_sentence)"
      ],
      "metadata": {
        "colab": {
          "base_uri": "https://localhost:8080/"
        },
        "id": "k1AMmACc9ZIG",
        "outputId": "317f36dd-e8ae-43ff-abfb-ac1a43ebc9a8"
      },
      "execution_count": 13,
      "outputs": [
        {
          "output_type": "stream",
          "name": "stdout",
          "text": [
            "sun hung low sky, casting long shadows across rolling hills. Birds chirped merrily flitted tree tree, songs filling air joy. gentle breeze rustled leaves, carrying sweet scent wildflowers. distance, river meandered lazily valley, waters shimmering golden light. Along banks, tall grasses swayed wind, whispering secrets passing clouds. world seemed pause moment, holding breath anticipation something magical. indeed, magic around, woven fabric nature itself. blade grass, petal flower, seemed dance life, imbued sense wonder awe. scene straight fairy tale, dreams reality intertwined beautiful tapestry existence.\n"
          ]
        }
      ]
    }
  ]
}