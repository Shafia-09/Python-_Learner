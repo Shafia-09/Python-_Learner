{
  "nbformat": 4,
  "nbformat_minor": 0,
  "metadata": {
    "colab": {
      "provenance": [],
      "authorship_tag": "ABX9TyPG3LfvRstj7JoKMiAz3qby",
      "include_colab_link": true
    },
    "kernelspec": {
      "name": "python3",
      "display_name": "Python 3"
    },
    "language_info": {
      "name": "python"
    }
  },
  "cells": [
    {
      "cell_type": "markdown",
      "metadata": {
        "id": "view-in-github",
        "colab_type": "text"
      },
      "source": [
        "<a href=\"https://colab.research.google.com/github/Shafia-09/Python_Learner/blob/main/Day_4_First_Assesment.ipynb\" target=\"_parent\"><img src=\"https://colab.research.google.com/assets/colab-badge.svg\" alt=\"Open In Colab\"/></a>"
      ]
    },
    {
      "cell_type": "markdown",
      "source": [
        "Problem 1 Create a function that sum only the float number from a given hetrogenous list"
      ],
      "metadata": {
        "id": "5LlIXmAaMqqA"
      }
    },
    {
      "cell_type": "code",
      "source": [
        "def sum_floats(heterogeneous_list):\n",
        "    total = 0.0\n",
        "    for item in heterogeneous_list:\n",
        "        if isinstance(item, float):\n",
        "            total += item\n",
        "    return total\n",
        "\n",
        "# Example usage:\n",
        "heterogeneous_list = [1, 2.4, \"hello\", 3.7, \"world\", 5.2, 7.7, 9.0]\n",
        "result = sum_floats(heterogeneous_list)\n",
        "print(\"Sum of float numbers in the list:\", result)"
      ],
      "metadata": {
        "colab": {
          "base_uri": "https://localhost:8080/"
        },
        "id": "uIq2kTQ6_EHN",
        "outputId": "5e2266be-3efe-428d-c89a-11af36f0a0fd"
      },
      "execution_count": 10,
      "outputs": [
        {
          "output_type": "stream",
          "name": "stdout",
          "text": [
            "Sum of float numbers in the list: 28.0\n"
          ]
        }
      ]
    },
    {
      "cell_type": "markdown",
      "source": [
        " reverse the list using the loop"
      ],
      "metadata": {
        "id": "ILAF_IWD_GdF"
      }
    },
    {
      "cell_type": "code",
      "source": [
        "def reverse_list(input_list):\n",
        "    reversed_list = []\n",
        "    for i in range(len(input_list) - 1, -1, -1):\n",
        "        reversed_list.append(input_list[i])\n",
        "    return reversed_list\n",
        "original_list = [1, 2.4, \"hello\", 3.7, \"world\", 5.2, 7.7, 9.0]\n",
        "reversed_result = reverse_list(original_list)\n",
        "print(\"Original List:\", original_list)\n",
        "print(\"Reversed List:\", reversed_result)"
      ],
      "metadata": {
        "colab": {
          "base_uri": "https://localhost:8080/"
        },
        "id": "0g35_-4U_NEL",
        "outputId": "9c2cb7c7-596a-436b-c530-b8e7f2fb856b"
      },
      "execution_count": 11,
      "outputs": [
        {
          "output_type": "stream",
          "name": "stdout",
          "text": [
            "Original List: [1, 2.4, 'hello', 3.7, 'world', 5.2, 7.7, 9.0]\n",
            "Reversed List: [9.0, 7.7, 5.2, 'world', 3.7, 'hello', 2.4, 1]\n"
          ]
        }
      ]
    },
    {
      "cell_type": "markdown",
      "source": [
        "Problem 2 Count the total number of digit using the loop"
      ],
      "metadata": {
        "id": "FfhC8_YW_1d8"
      }
    },
    {
      "cell_type": "code",
      "source": [
        "def count(numbers):\n",
        "    total = 0\n",
        "    for num in numbers:\n",
        "        num_str = str(num)\n",
        "        for char in num_str:\n",
        "            if char.isdigit():\n",
        "                total += 1\n",
        "    return total\n",
        "my_list = [1, 2.4, \"hello\", 3.7, \"world\", 5.2, 7.7, 9.0]\n",
        "total = count(my_list)\n",
        "print(\"Total number of digits:\", total)\n"
      ],
      "metadata": {
        "colab": {
          "base_uri": "https://localhost:8080/"
        },
        "id": "kiiAbJRS_zdv",
        "outputId": "c0a404b9-4b6e-4ea1-ae70-c11a01b62c01"
      },
      "execution_count": 20,
      "outputs": [
        {
          "output_type": "stream",
          "name": "stdout",
          "text": [
            "Total number of digits: 11\n"
          ]
        }
      ]
    },
    {
      "cell_type": "markdown",
      "source": [
        "Problem 3 Display this\n",
        "\n",
        "5 4 3 2 1\n",
        "\n",
        "4 3 2 1\n",
        "\n",
        "3 2 1\n",
        "\n",
        "2 1\n",
        "\n",
        "1"
      ],
      "metadata": {
        "id": "stgxYxoICf08"
      }
    },
    {
      "cell_type": "code",
      "source": [
        "    for i in range(5, 0, -1):\n",
        "        for j in range(i, 0, -1):\n",
        "            print(j, end=\" \")\n",
        "        print()"
      ],
      "metadata": {
        "colab": {
          "base_uri": "https://localhost:8080/"
        },
        "id": "gWdGBXrgDX8k",
        "outputId": "38cebd38-8d01-485a-db64-c4369e9cb715"
      },
      "execution_count": 24,
      "outputs": [
        {
          "output_type": "stream",
          "name": "stdout",
          "text": [
            "5 4 3 2 1 \n",
            "4 3 2 1 \n",
            "3 2 1 \n",
            "2 1 \n",
            "1 \n"
          ]
        }
      ]
    },
    {
      "cell_type": "markdown",
      "source": [
        "Problem 4 Display this"
      ],
      "metadata": {
        "id": "ZyzuiUflCgLz"
      }
    },
    {
      "cell_type": "code",
      "source": [
        "rows = 5\n",
        "for i in range(rows):\n",
        "    for j in range(i + 1):\n",
        "        print(\"*\", end=\" \")\n",
        "    print()\n",
        "\n",
        "for i in range(rows - 1, 0, -1):\n",
        "    for j in range(i):\n",
        "        print(\"*\", end=\" \")\n",
        "    print()"
      ],
      "metadata": {
        "colab": {
          "base_uri": "https://localhost:8080/"
        },
        "id": "liUH3fC8D7-c",
        "outputId": "ccf6234d-38bb-4fb1-85f2-0eaa2ded88a3"
      },
      "execution_count": 27,
      "outputs": [
        {
          "output_type": "stream",
          "name": "stdout",
          "text": [
            "* \n",
            "* * \n",
            "* * * \n",
            "* * * * \n",
            "* * * * * \n",
            "* * * * \n",
            "* * * \n",
            "* * \n",
            "* \n"
          ]
        }
      ]
    },
    {
      "cell_type": "markdown",
      "source": [
        "Problem 5 Write function that generate multiplication table upto a given range in Python"
      ],
      "metadata": {
        "id": "RuAAmZ5dCgX0"
      }
    },
    {
      "cell_type": "code",
      "source": [
        "def multiplication_table(num):\n",
        "    for i in range(1, num + 1):\n",
        "        for j in range(1, num + 1):\n",
        "            print(i * j)\n",
        "        print()\n",
        "num = 5\n",
        "print(f\"Multiplication table up to {num}:\")\n",
        "multiplication_table(num)"
      ],
      "metadata": {
        "colab": {
          "base_uri": "https://localhost:8080/"
        },
        "id": "Vl0W9RhlDGAC",
        "outputId": "5beec7bb-6038-4ff5-95ef-3ded9dccd4f6"
      },
      "execution_count": 32,
      "outputs": [
        {
          "output_type": "stream",
          "name": "stdout",
          "text": [
            "Multiplication table up to 5:\n",
            "1\n",
            "2\n",
            "3\n",
            "4\n",
            "5\n",
            "\n",
            "2\n",
            "4\n",
            "6\n",
            "8\n",
            "10\n",
            "\n",
            "3\n",
            "6\n",
            "9\n",
            "12\n",
            "15\n",
            "\n",
            "4\n",
            "8\n",
            "12\n",
            "16\n",
            "20\n",
            "\n",
            "5\n",
            "10\n",
            "15\n",
            "20\n",
            "25\n",
            "\n"
          ]
        }
      ]
    },
    {
      "cell_type": "markdown",
      "source": [
        "what are the difference between the list comprehension and loop??\n",
        "\n",
        "List comprehensions and loops are both mechanisms in Python for iterating over sequences and performing operations on elements."
      ],
      "metadata": {
        "id": "-Z5_LdkDDGVm"
      }
    }
  ]
}