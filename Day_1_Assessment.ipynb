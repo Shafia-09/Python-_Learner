{
  "nbformat": 4,
  "nbformat_minor": 0,
  "metadata": {
    "colab": {
      "provenance": [],
      "authorship_tag": "ABX9TyNuQ8/GSbSgpGpuuXQc9Mr2",
      "include_colab_link": true
    },
    "kernelspec": {
      "name": "python3",
      "display_name": "Python 3"
    },
    "language_info": {
      "name": "python"
    }
  },
  "cells": [
    {
      "cell_type": "markdown",
      "metadata": {
        "id": "view-in-github",
        "colab_type": "text"
      },
      "source": [
        "<a href=\"https://colab.research.google.com/github/Shafia-09/Python-_Learner/blob/main/Day_1_Assessment.ipynb\" target=\"_parent\"><img src=\"https://colab.research.google.com/assets/colab-badge.svg\" alt=\"Open In Colab\"/></a>"
      ]
    },
    {
      "cell_type": "code",
      "execution_count": 1,
      "metadata": {
        "colab": {
          "base_uri": "https://localhost:8080/"
        },
        "id": "s8yFSGMOEAXW",
        "outputId": "54f5c5bf-303f-4f7b-9ae3-f3ebd9a1140e"
      },
      "outputs": [
        {
          "output_type": "stream",
          "name": "stdout",
          "text": [
            "strings are of same identity\n"
          ]
        }
      ],
      "source": [
        "#1 how would you confirm that two strings have the same identity\n",
        "str1=\"hello\"\n",
        "str2=\"hello\"\n",
        "if str1 is str2:\n",
        "  print(\"strings are of same identity\")\n",
        "else:\n",
        "  print(\"strings do not have identity\")"
      ]
    },
    {
      "cell_type": "code",
      "source": [
        "str1=\"code\"\n",
        "str2=\"codde\"\n",
        "if str1 is str2:\n",
        "  print(\"strings are of same identity\")\n",
        "else:\n",
        "  print(\"strings do not have identity\")"
      ],
      "metadata": {
        "colab": {
          "base_uri": "https://localhost:8080/"
        },
        "id": "mCBZMFuWNpB1",
        "outputId": "a14ba33c-cf54-44f1-fdbf-e0bfafaae606"
      },
      "execution_count": 3,
      "outputs": [
        {
          "output_type": "stream",
          "name": "stdout",
          "text": [
            "strings do not have identity\n"
          ]
        }
      ]
    },
    {
      "cell_type": "code",
      "source": [
        "#2 how to find length and index of the string\n",
        "s=\"python\"\n",
        "length=len(s)\n",
        "print(\"Length of the string :\",len)\n",
        "y='t'\n",
        "ind=s.find(y)\n",
        "print(\"Index value is:\",ind)\n"
      ],
      "metadata": {
        "colab": {
          "base_uri": "https://localhost:8080/"
        },
        "id": "Fggr829xOEIk",
        "outputId": "f09f712e-37af-47da-966b-51f34f707174"
      },
      "execution_count": 14,
      "outputs": [
        {
          "output_type": "stream",
          "name": "stdout",
          "text": [
            "Length of the string : <built-in function len>\n",
            "Index value is: 2\n"
          ]
        }
      ]
    },
    {
      "cell_type": "code",
      "source": [
        "#3 how to check a string contain a specfic substring\n",
        "s=\"python learning\"\n",
        "sub_str=\"learning\"\n",
        "if sub_str in s:\n",
        "  print(\"The string contains the specific string\")\n",
        "else:\n",
        "  print(\"The string does not contain any specific string\")"
      ],
      "metadata": {
        "colab": {
          "base_uri": "https://localhost:8080/"
        },
        "id": "A_TBLIk1P3Q9",
        "outputId": "77efc4cf-a442-49ad-f4fb-8971a715d322"
      },
      "execution_count": 9,
      "outputs": [
        {
          "output_type": "stream",
          "name": "stdout",
          "text": [
            "The string contains the specific string\n"
          ]
        }
      ]
    },
    {
      "cell_type": "code",
      "source": [
        "#4 how to take a string from backward with two step difference\n",
        "s=\"coding\"\n",
        "t=s[::-3]\n",
        "print(\"original string is:\",s)\n",
        "print(\"String from backward with two step difference:\",t)"
      ],
      "metadata": {
        "colab": {
          "base_uri": "https://localhost:8080/"
        },
        "id": "NiXF0m1vQMNc",
        "outputId": "f8bda9e3-f6a2-4e2d-8cce-af6d287e2ccc"
      },
      "execution_count": 10,
      "outputs": [
        {
          "output_type": "stream",
          "name": "stdout",
          "text": [
            "original string is: coding\n",
            "String from backward with two step difference: gd\n"
          ]
        }
      ]
    },
    {
      "cell_type": "code",
      "source": [
        "#5 how to find the index of the last element\n",
        "str=\"Hello\"\n",
        "print(\"Index of last element is:\",len(str)-1)"
      ],
      "metadata": {
        "colab": {
          "base_uri": "https://localhost:8080/"
        },
        "id": "KAl4QrcDQgJF",
        "outputId": "56b1202a-33a1-429c-dc59-48d06e0e94f1"
      },
      "execution_count": 12,
      "outputs": [
        {
          "output_type": "stream",
          "name": "stdout",
          "text": [
            "Index of last element is: 4\n"
          ]
        }
      ]
    },
    {
      "cell_type": "code",
      "source": [
        "#6 write 2 ways to concatenate the string\n",
        "str1='Welcome'\n",
        "str2='Python learning'\n",
        "print(str1 + '2' + str2 )"
      ],
      "metadata": {
        "colab": {
          "base_uri": "https://localhost:8080/"
        },
        "id": "PzxBc1FnRH9R",
        "outputId": "885248b6-2801-40f0-b9e4-00ed5f3c4297"
      },
      "execution_count": 13,
      "outputs": [
        {
          "output_type": "stream",
          "name": "stdout",
          "text": [
            "Welcome2Python learning\n"
          ]
        }
      ]
    }
  ]
}