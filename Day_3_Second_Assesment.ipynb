{
  "nbformat": 4,
  "nbformat_minor": 0,
  "metadata": {
    "colab": {
      "provenance": [],
      "authorship_tag": "ABX9TyPhnvPzZT81Ctyw91DSt/WG",
      "include_colab_link": true
    },
    "kernelspec": {
      "name": "python3",
      "display_name": "Python 3"
    },
    "language_info": {
      "name": "python"
    }
  },
  "cells": [
    {
      "cell_type": "markdown",
      "metadata": {
        "id": "view-in-github",
        "colab_type": "text"
      },
      "source": [
        "<a href=\"https://colab.research.google.com/github/Shafia-09/Python_Learner/blob/main/Day_3_Second_Assesment.ipynb\" target=\"_parent\"><img src=\"https://colab.research.google.com/assets/colab-badge.svg\" alt=\"Open In Colab\"/></a>"
      ]
    },
    {
      "cell_type": "code",
      "execution_count": 1,
      "metadata": {
        "colab": {
          "base_uri": "https://localhost:8080/"
        },
        "id": "NDGpOLlZyCCE",
        "outputId": "fbf40402-d562-4c4c-d8a5-c88f824fb39d"
      },
      "outputs": [
        {
          "output_type": "stream",
          "name": "stdout",
          "text": [
            "Enter a number: 4\n",
            "Result: 19.0\n"
          ]
        }
      ],
      "source": [
        "#1 Write a python program to create a lambda function that adds 15 to a given number\n",
        "add_fifteen = lambda x: x + 15.0\n",
        "input_number = float(input(\"Enter a number: \"))\n",
        "result = add_fifteen(input_number)\n",
        "print(\"Result:\", result)"
      ]
    },
    {
      "cell_type": "code",
      "source": [
        "#2 Write a function to create a prime number generator\n",
        "def prime_generator():\n",
        "    \"\"\"Generate prime numbers indefinitely.\"\"\"\n",
        "    num = 2\n",
        "    while True:\n",
        "        is_prime = all(num % i != 0 for i in range(2, int(num**0.5) + 1))\n",
        "        if is_prime:\n",
        "            yield num\n",
        "        num += 1\n",
        "\n",
        "# Example usage:\n",
        "# Generate and print the first 5 prime numbers\n",
        "prime_gen = prime_generator()\n",
        "for _ in range(5):\n",
        "    print(next(prime_gen))"
      ],
      "metadata": {
        "colab": {
          "base_uri": "https://localhost:8080/"
        },
        "id": "lOdCPizryXR9",
        "outputId": "5dadd99c-44e3-4015-aee7-87bdd42a7b7f"
      },
      "execution_count": 2,
      "outputs": [
        {
          "output_type": "stream",
          "name": "stdout",
          "text": [
            "2\n",
            "3\n",
            "5\n",
            "7\n",
            "11\n"
          ]
        }
      ]
    },
    {
      "cell_type": "code",
      "source": [
        "#3 Create a lambda function to filter out the even number from a given list\n",
        "numbers = [1, 2, 3, 4, 5, 6, 7, 8, 9, 10]\n",
        "filter_even = lambda x: x % 2 == 0\n",
        "# Use filter() function with the lambda function to filter out even numbers\n",
        "even_numbers = list(filter(lambda x: x%2==0, numbers))\n",
        "print(even_numbers)"
      ],
      "metadata": {
        "colab": {
          "base_uri": "https://localhost:8080/"
        },
        "id": "_fT41CIMyd-C",
        "outputId": "b2a963c6-db2f-42d0-bbae-dbbe63968cbe"
      },
      "execution_count": 3,
      "outputs": [
        {
          "output_type": "stream",
          "name": "stdout",
          "text": [
            "[2, 4, 6, 8, 10]\n"
          ]
        }
      ]
    },
    {
      "cell_type": "code",
      "source": [
        "#4 Create a function for prime number generator\n",
        "def is_prime(number):\n",
        "    if number < 2:\n",
        "        return False\n",
        "    for i in range(2, int(number**0.5) + 1):\n",
        "        if number % i == 0:\n",
        "            return False\n",
        "    return True\n",
        "\n",
        "def prime_generator(limit):\n",
        "    primes = []\n",
        "    number = 2\n",
        "    while number<limit:\n",
        "        if is_prime(number):\n",
        "            primes.append(number)\n",
        "        number += 1\n",
        "    return primes\n",
        "limit = 20\n",
        "prime_numbers = prime_generator(limit)\n",
        "print(f\"prime_numbers up to {limit}: {prime_numbers}\")"
      ],
      "metadata": {
        "colab": {
          "base_uri": "https://localhost:8080/"
        },
        "id": "yrtf2UDWygSP",
        "outputId": "a7d8c12e-cd7e-42d9-e7a0-5fc4e62078df"
      },
      "execution_count": 4,
      "outputs": [
        {
          "output_type": "stream",
          "name": "stdout",
          "text": [
            "prime_numbers up to 20: [2, 3, 5, 7, 11, 13, 17, 19]\n"
          ]
        }
      ]
    },
    {
      "cell_type": "code",
      "source": [
        "#5 Create function for fibonacci series generator\n",
        "def fibonacci_generator( ):\n",
        "    a, b = 0, 1\n",
        "    while True:\n",
        "        yield a\n",
        "        a, b = b, a + b\n",
        "fibonacci = fibonacci_generator( )\n",
        "for _ in range(10):\n",
        "  print(next(fibonacci))"
      ],
      "metadata": {
        "colab": {
          "base_uri": "https://localhost:8080/"
        },
        "id": "rrSW_5LHyj6F",
        "outputId": "961974d8-7850-4dd3-bc53-65cca9a41e99"
      },
      "execution_count": 5,
      "outputs": [
        {
          "output_type": "stream",
          "name": "stdout",
          "text": [
            "0\n",
            "1\n",
            "1\n",
            "2\n",
            "3\n",
            "5\n",
            "8\n",
            "13\n",
            "21\n",
            "34\n"
          ]
        }
      ]
    }
  ]
}