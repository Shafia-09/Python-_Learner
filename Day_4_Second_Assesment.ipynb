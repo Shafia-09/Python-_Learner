{
  "nbformat": 4,
  "nbformat_minor": 0,
  "metadata": {
    "colab": {
      "provenance": [],
      "authorship_tag": "ABX9TyO91p9fYL/heV8JtPIeKZ3g",
      "include_colab_link": true
    },
    "kernelspec": {
      "name": "python3",
      "display_name": "Python 3"
    },
    "language_info": {
      "name": "python"
    }
  },
  "cells": [
    {
      "cell_type": "markdown",
      "metadata": {
        "id": "view-in-github",
        "colab_type": "text"
      },
      "source": [
        "<a href=\"https://colab.research.google.com/github/Shafia-09/Python_Learner/blob/main/Day_4_Second_Assesment.ipynb\" target=\"_parent\"><img src=\"https://colab.research.google.com/assets/colab-badge.svg\" alt=\"Open In Colab\"/></a>"
      ]
    },
    {
      "cell_type": "markdown",
      "source": [
        "Problem 6 Write a python program for the palindrome checker using the loop"
      ],
      "metadata": {
        "id": "5PJBoRExQ8yX"
      }
    },
    {
      "cell_type": "code",
      "source": [
        "def is_palindrome(num):\n",
        "    num = num.replace(\" \", \"\").lower()\n",
        "    return num == num[::-1]\n",
        "\n",
        "# User input\n",
        "input = input(\"Enter a string to check if it's a palindrome: \")\n",
        "if is_palindrome(input):\n",
        "    print(f\"'{input}' is a palindrome.\")\n",
        "else:\n",
        "    print(f\"'{input}' is not a palindrome.\")"
      ],
      "metadata": {
        "colab": {
          "base_uri": "https://localhost:8080/"
        },
        "id": "-MAIKoXiRsvv",
        "outputId": "3c4a8fca-1ac9-444c-eea9-ceb61ac39ed7"
      },
      "execution_count": 4,
      "outputs": [
        {
          "output_type": "stream",
          "name": "stdout",
          "text": [
            "Enter a string to check if it's a palindrome: 4\n",
            "'4' is a palindrome.\n"
          ]
        }
      ]
    },
    {
      "cell_type": "markdown",
      "source": [
        "Problem 7 Factorial Calculation\n",
        "\n",
        "Write a program that calculates the factorial of a given number using a loop. The user should input the number, and the program should display its factorial."
      ],
      "metadata": {
        "id": "eONZY1dcQ-Vk"
      }
    },
    {
      "cell_type": "code",
      "execution_count": 1,
      "metadata": {
        "colab": {
          "base_uri": "https://localhost:8080/"
        },
        "id": "tH92NRa8QhP6",
        "outputId": "86b84d9c-d3c4-48b6-df46-879acc33daf4"
      },
      "outputs": [
        {
          "output_type": "stream",
          "name": "stdout",
          "text": [
            "Enter a number to calculate its factorial: 3\n",
            "The factorial of 3 is: 6\n"
          ]
        }
      ],
      "source": [
        "number = int(input(\"Enter a number to calculate its factorial: \"))\n",
        "\n",
        "# Check if the number is non-negative\n",
        "if number < 0:\n",
        "    print(\"Factorial is not defined for negative numbers.\")\n",
        "else:\n",
        "    factorial = 1\n",
        "    # Loop to calculate factorial\n",
        "    for i in range(1, number + 1):\n",
        "        factorial *= i\n",
        "    print(f\"The factorial of {number} is: {factorial}\")"
      ]
    },
    {
      "cell_type": "markdown",
      "source": [
        "Problem 8 Binary to Decimal Converter\n",
        "\n",
        "Create a program that converts a binary number (entered by the user) to its decimal equivalent. The user should input the binary number as a string, and the program should output its decimal equivalent."
      ],
      "metadata": {
        "id": "iDpKpY0rQ-hs"
      }
    },
    {
      "cell_type": "code",
      "source": [
        "# Function to convert binary to decimal\n",
        "def binary_to_decimal(binary):\n",
        "    decimal = 0\n",
        "    power = len(binary) - 1  # Start from the highest power of 2\n",
        "\n",
        "    # Iterate over each digit in the binary number\n",
        "    for digit in binary:\n",
        "        decimal += int(digit) * (2 ** power)\n",
        "        power -= 1  # Move to the next lower power of 2\n",
        "\n",
        "    return decimal\n",
        "\n",
        "# Main program\n",
        "if __name__ == \"__main__\":\n",
        "    # User input for binary number\n",
        "    binary_input = input(\"Enter a binary number: \")\n",
        "\n",
        "    # Check if the input is a valid binary number\n",
        "    if not all(bit in '01' for bit in binary_input):\n",
        "        print(\"Invalid binary number. Please enter a valid binary number.\")\n",
        "    else:\n",
        "        # Convert binary to decimal and print the result\n",
        "        decimal_result = binary_to_decimal(binary_input)\n",
        "        print(\"Decimal equivalent:\", decimal_result)"
      ],
      "metadata": {
        "colab": {
          "base_uri": "https://localhost:8080/"
        },
        "id": "AJWvmUNwRaNW",
        "outputId": "b63cf32a-c486-404a-f589-7fce2c88a593"
      },
      "execution_count": 2,
      "outputs": [
        {
          "output_type": "stream",
          "name": "stdout",
          "text": [
            "Enter a binary number: 2\n",
            "Invalid binary number. Please enter a valid binary number.\n"
          ]
        }
      ]
    },
    {
      "cell_type": "markdown",
      "source": [
        "Problem 10 Matrix Transposition:\n",
        "\n",
        "Create a program that transposes a given matrix. The user should input the matrix as a list of lists, and the program should output the transposed matrix. For example, if the input is:"
      ],
      "metadata": {
        "id": "y8Fmb7OQQ-rD"
      }
    },
    {
      "cell_type": "code",
      "source": [
        "def transpose_matrix(matrix):\n",
        "    # Get the number of rows and columns in the matrix\n",
        "    rows = len(matrix)\n",
        "    cols = len(matrix[0])\n",
        "\n",
        "    # Create a new matrix to store the transposed matrix\n",
        "    transposed_matrix = [[0 for _ in range(rows)] for _ in range(cols)]\n",
        "\n",
        "    # Iterate over the original matrix and fill the transposed matrix\n",
        "    for i in range(rows):\n",
        "        for j in range(cols):\n",
        "            transposed_matrix[j][i] = matrix[i][j]\n",
        "\n",
        "    return transposed_matrix\n",
        "\n",
        "# User input for the matrix\n",
        "matrix = []\n",
        "rows = int(input(\"Enter the number of rows: \"))\n",
        "cols = int(input(\"Enter the number of columns: \"))\n",
        "\n",
        "print(\"Enter the elements of the matrix:\")\n",
        "for i in range(rows):\n",
        "    row = []\n",
        "    for j in range(cols):\n",
        "        element = int(input(f\"Enter element [{i+1}][{j+1}]: \"))\n",
        "        row.append(element)\n",
        "    matrix.append(row)\n",
        "\n",
        "# Transpose the matrix and print the result\n",
        "transposed_matrix = transpose_matrix(matrix)\n",
        "print(\"\\nTransposed Matrix:\")\n",
        "for row in transposed_matrix:\n",
        "    print(row)"
      ],
      "metadata": {
        "colab": {
          "base_uri": "https://localhost:8080/"
        },
        "id": "mdiKY3MMRisX",
        "outputId": "f63817d7-fa94-466c-cd17-e4d1e9b60244"
      },
      "execution_count": 3,
      "outputs": [
        {
          "output_type": "stream",
          "name": "stdout",
          "text": [
            "Enter the number of rows: 2\n",
            "Enter the number of columns: 3\n",
            "Enter the elements of the matrix:\n",
            "Enter element [1][1]: 7\n",
            "Enter element [1][2]: 8\n",
            "Enter element [1][3]: 6\n",
            "Enter element [2][1]: 9\n",
            "Enter element [2][2]: 1\n",
            "Enter element [2][3]: 2\n",
            "\n",
            "Transposed Matrix:\n",
            "[7, 9]\n",
            "[8, 1]\n",
            "[6, 2]\n"
          ]
        }
      ]
    }
  ]
}