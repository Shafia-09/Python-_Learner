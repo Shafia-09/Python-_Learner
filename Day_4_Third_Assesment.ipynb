{
  "nbformat": 4,
  "nbformat_minor": 0,
  "metadata": {
    "colab": {
      "provenance": [],
      "authorship_tag": "ABX9TyPaVhjoN0Kx7Bx2wK316d84",
      "include_colab_link": true
    },
    "kernelspec": {
      "name": "python3",
      "display_name": "Python 3"
    },
    "language_info": {
      "name": "python"
    }
  },
  "cells": [
    {
      "cell_type": "markdown",
      "metadata": {
        "id": "view-in-github",
        "colab_type": "text"
      },
      "source": [
        "<a href=\"https://colab.research.google.com/github/Shafia-09/Python_Learner/blob/main/Day_4_Third_Assesment.ipynb\" target=\"_parent\"><img src=\"https://colab.research.google.com/assets/colab-badge.svg\" alt=\"Open In Colab\"/></a>"
      ]
    },
    {
      "cell_type": "markdown",
      "source": [
        "File Handling"
      ],
      "metadata": {
        "id": "m_0XJERjSx-S"
      }
    },
    {
      "cell_type": "markdown",
      "source": [
        "Problem 11 program to open the text file and edit it"
      ],
      "metadata": {
        "id": "SYjZVGivSibf"
      }
    },
    {
      "cell_type": "code",
      "source": [
        "# Open the file in read mode\n",
        "with open('welcome.txt', 'r') as file:\n",
        "    # Read the content of the file\n",
        "    content = file.read()\n",
        "\n",
        "# Edit the content as needed\n",
        "# For example, let's add some text at the end\n",
        "content += \"\\nwelcome to python programming.\"\n",
        "\n",
        "# Open the file in write mode to save the changes\n",
        "with open('welcome.txt', 'w') as file:\n",
        "    # Write the modified content back to the file\n",
        "    file.write(content)"
      ],
      "metadata": {
        "id": "VNTK0UnvaWJh"
      },
      "execution_count": 6,
      "outputs": []
    },
    {
      "cell_type": "markdown",
      "source": [
        "Problem 12 Program to list all the file in the directory"
      ],
      "metadata": {
        "id": "1g95VDfPSi_4"
      }
    },
    {
      "cell_type": "code",
      "source": [
        "from google.colab import drive\n",
        "drive.mount('/content/drive')"
      ],
      "metadata": {
        "colab": {
          "base_uri": "https://localhost:8080/"
        },
        "id": "nWmb4evgamYK",
        "outputId": "dd669ecb-3d8f-408b-eb23-e60e3a9bba03"
      },
      "execution_count": null,
      "outputs": [
        {
          "output_type": "stream",
          "name": "stdout",
          "text": [
            "Mounted at /content/drive\n"
          ]
        }
      ]
    },
    {
      "cell_type": "code",
      "source": [
        "import os\n",
        "\n",
        "DIR='/content/drive/MyDrive/2nd yr 1 sem'\n",
        "print(DIR)"
      ],
      "metadata": {
        "id": "qkNTHt_MbGvO",
        "colab": {
          "base_uri": "https://localhost:8080/"
        },
        "outputId": "fd70d29c-fc50-4713-9c63-2a6008024d32"
      },
      "execution_count": 7,
      "outputs": [
        {
          "output_type": "stream",
          "name": "stdout",
          "text": [
            "/content/drive/MyDrive/2nd yr 1 sem\n"
          ]
        }
      ]
    },
    {
      "cell_type": "code",
      "source": [
        "for file in os.listdir(DIR):\n",
        "    print(file)"
      ],
      "metadata": {
        "colab": {
          "base_uri": "https://localhost:8080/"
        },
        "id": "5a7MdHZPc2CJ",
        "outputId": "d8e7caae-8761-4e4e-bcf9-9e4837270117"
      },
      "execution_count": 8,
      "outputs": [
        {
          "output_type": "stream",
          "name": "stdout",
          "text": [
            "DAA Notes Shot & Long questions and Answers(From Unit-I to Unit-V) (3).pdf\n",
            "DAA assignment  2 (4).pdf\n",
            "BEE lab.pdf\n",
            "vector-infographic-design-template.webp\n",
            "Unit-5 ppt (3).pptx\n",
            "UNIT III DBMS.pptx\n",
            "StatistialTables.pdf\n",
            "standard-normal-distribution-table.pdf\n",
            "WhatsApp Image 2022-11-25 at 8.09.40 AM.jpeg\n",
            "UNIT-4 DBMS (2).pdf\n",
            "SFDS-Unit-5-IMPQ.pdf\n",
            "SIP Team 2 Disa.pptx\n",
            "SFD-Unit-4-IMPQ.pdf\n",
            "timezone.csv\n",
            "UNIT-4 DBMS (1).pdf\n",
            "thank you.png\n",
            "Receipt-Details 2nd year exam fee.pdf\n",
            "python lab.pdf\n",
            "round robin.c\n",
            "SIP Team 2 Disa[1].pdf\n",
            "Screenshot poster.png\n",
            "research-methods.png\n",
            "os unit-3 part 1.pdf\n",
            "os saq.docx\n",
            "Screenshot (80).png\n",
            "Receipt-Details (2).pdf\n",
            "poster disa.jpeg\n",
            "ppt thp.png\n",
            "odeimpq (1).pdf\n",
            "DBMS_UNIT II.pdf\n",
            "DISA Patent Doc.docx\n",
            "II UNIT PPT DBMS.pptx\n",
            "disa proj pic 4.jpeg\n",
            "download.jpg\n",
            "FRONT P.png\n",
            "download 2.png\n",
            "disa logo.jpeg\n",
            "disa proj pic 3.jpeg\n",
            "disa proj pic 2.jpeg\n",
            "disa proj pic 1.jpeg\n",
            "DBMS_LAB_Experiments_1-10CMRCET.pdf\n",
            "Daa notes.pdf\n",
            "DBMS 5TH UNIT.pdf\n",
            "DAA Short questions (2).pdf\n",
            "A36701.pdf\n",
            "DBMS 5TH UNIT.docx\n",
            "1st UNIT-CO PPT (1).pdf\n",
            "316-318.pdf\n",
            "Branch and Bound (3).pdf\n",
            "DAA Short questions (2).docx\n",
            "dbms 1 unit.jpeg\n",
            "additional course-web development\n",
            "OS lab\n",
            "python prog\n",
            "SIP\n",
            "SIP - Copy\n",
            "OS-Unit-5.pdf\n",
            "OS-Unit-4-Notes.pdf\n",
            "OS-UNIT-1.pdf\n",
            "OS UNIT-3  PART-2.pdf\n",
            "OS UNIT-2.pdf\n",
            "mid 2 os ans saq (3).pdf\n",
            "DBMS_UNIT I.pdf\n",
            "DBMS Notes .pdf\n",
            "DATABASE MANAGEMENT SYSTEMS LABORATORY MANUAL & RECORD.pdf\n",
            "sfd notes.pdf\n",
            "Ramakrishnan - Database Management Systems 3rd Edition.pdf\n"
          ]
        }
      ]
    },
    {
      "cell_type": "markdown",
      "source": [
        "Problem 13 program to find the name of list only the text file and only the image file specifically"
      ],
      "metadata": {
        "id": "ZoW9iCr2SjEx"
      }
    },
    {
      "cell_type": "code",
      "source": [
        "import os\n",
        "\n",
        "def list_text_files(sample_data):\n",
        "    text_files = [file for file in os.listdir(sample_data) if file.lower().endswith(('.txt', '.csv', '.log'))]\n",
        "    return text_files\n",
        "\n",
        "def list_image_files(sample_data):\n",
        "    image_files = [file for file in os.listdir(sample_data) if file.lower().endswith(('.jpg', '.jpeg', '.png', '.gif', '.bmp'))]\n",
        "    return image_files\n",
        "\n",
        "# Replace 'your_directory_path' with the actual path of the directory\n",
        "directory_path = '/content/sample_data'\n",
        "\n",
        "text_files = list_text_files(directory_path)\n",
        "image_files = list_image_files(directory_path)\n",
        "\n",
        "print(\"Text Files:\")\n",
        "for text_file in text_files:\n",
        "    print(text_file)\n",
        "\n",
        "print(\"\\nImage Files:\")\n",
        "for image_file in image_files:\n",
        "    print(image_file)\n"
      ],
      "metadata": {
        "colab": {
          "base_uri": "https://localhost:8080/"
        },
        "id": "xtmZkbSAc7lD",
        "outputId": "cbacda19-68fb-412f-a78e-7e57f472309f"
      },
      "execution_count": 9,
      "outputs": [
        {
          "output_type": "stream",
          "name": "stdout",
          "text": [
            "Text Files:\n",
            "california_housing_train.csv\n",
            "mnist_test.csv\n",
            "mnist_train_small.csv\n",
            "california_housing_test.csv\n",
            "\n",
            "Image Files:\n"
          ]
        }
      ]
    },
    {
      "cell_type": "markdown",
      "source": [
        "Problem 14 Program to copy the the file and also the bundle of file to the specific location"
      ],
      "metadata": {
        "id": "Vo5KC78NSjKG"
      }
    },
    {
      "cell_type": "code",
      "source": [
        "file1 = open(\"File 1.txt\", \"r\")\n",
        "file2 = open(\"File 2.txt\", \"w\")\n",
        "\n",
        "for line in file1:\n",
        "    file2.write(line)\n",
        "\n",
        "file1.close()\n",
        "file2.close()\n",
        "\n",
        "# Now, open \"file2.txt\" for reading and print its content\n",
        "file3 = open(\"File 2.txt\", \"r\")\n",
        "print(file3.read())\n",
        "\n",
        "file3.close()"
      ],
      "metadata": {
        "colab": {
          "base_uri": "https://localhost:8080/"
        },
        "id": "pNBYE_5ndiXS",
        "outputId": "76fd2e81-9ec8-428f-f8ab-8450213edb74"
      },
      "execution_count": 15,
      "outputs": [
        {
          "output_type": "stream",
          "name": "stdout",
          "text": [
            "Welcome to Python Programming\n"
          ]
        }
      ]
    },
    {
      "cell_type": "markdown",
      "source": [
        "Problem 15 Program to delete the specific file and folder"
      ],
      "metadata": {
        "id": "g4KrplX3Sjrr"
      }
    },
    {
      "cell_type": "code",
      "source": [
        "import os\n",
        "import shutil\n",
        "\n",
        "# Check if the file exists and delete it\n",
        "if os.path.isfile(\"File 3.txt\"):\n",
        "    os.remove(\"File 3.txt\")\n",
        "    print(\"File 'File 3.txt' deleted\")\n",
        "else:\n",
        "    print(\"File 'File 3.txt' not found\")\n",
        "\n",
        "# Check if the directory \"empty-dir\" exists and delete it\n",
        "if os.path.isdir(\"empty-dir\"):\n",
        "    os.rmdir(\"empty-dir\")\n",
        "    print(\"Directory 'empty-dir' deleted\")\n",
        "else:\n",
        "    print(\"Directory 'empty-dir' not found\")\n",
        "\n",
        "# Check if the directory \"nonempty-dir\" exists and delete it with all its contents\n",
        "if os.path.isdir(\"nonempty-dir\"):\n",
        "    shutil.rmtree(\"nonempty-dir\")\n",
        "    print(\"Directory 'nonempty-dir' and its contents deleted\")\n",
        "else:\n",
        "    print(\"Directory 'nonempty-dir' not found\")"
      ],
      "metadata": {
        "colab": {
          "base_uri": "https://localhost:8080/"
        },
        "id": "ImLDFvzPehjC",
        "outputId": "e7457994-5024-439b-e129-6ecb4e7bddba"
      },
      "execution_count": 14,
      "outputs": [
        {
          "output_type": "stream",
          "name": "stdout",
          "text": [
            "File 'File 3.txt' deleted\n",
            "Directory 'empty-dir' not found\n",
            "Directory 'nonempty-dir' not found\n"
          ]
        }
      ]
    }
  ]
}