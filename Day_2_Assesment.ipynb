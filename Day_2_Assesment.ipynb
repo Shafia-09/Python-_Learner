{
  "nbformat": 4,
  "nbformat_minor": 0,
  "metadata": {
    "colab": {
      "provenance": [],
      "authorship_tag": "ABX9TyNoTl9rmshvF++a1puv6lDh",
      "include_colab_link": true
    },
    "kernelspec": {
      "name": "python3",
      "display_name": "Python 3"
    },
    "language_info": {
      "name": "python"
    }
  },
  "cells": [
    {
      "cell_type": "markdown",
      "metadata": {
        "id": "view-in-github",
        "colab_type": "text"
      },
      "source": [
        "<a href=\"https://colab.research.google.com/github/Shafia-09/Python_Learner/blob/main/Day_2_Assesment.ipynb\" target=\"_parent\"><img src=\"https://colab.research.google.com/assets/colab-badge.svg\" alt=\"Open In Colab\"/></a>"
      ]
    },
    {
      "cell_type": "code",
      "execution_count": null,
      "metadata": {
        "id": "862VBYnM2ptD"
      },
      "outputs": [],
      "source": [
        "#1 Difference between the tuples and list"
      ]
    },
    {
      "cell_type": "markdown",
      "source": [
        "Tuples\n",
        "*   In Python tuples are similar to lists,unlike lists they are immutable\n",
        "     meaning they cannot be changed\n",
        "*   You would use tuples to present things that shouldn't be changed, such as days of the week, or dates on a calendar.\n",
        "*   The construction of a tuples use ( ) with elements separated by commas.\n",
        "\n",
        "Lists\n",
        "*   Lists can be thought of the most general version of a sequence in Python.\n",
        "*   Unlike strings, they are mutable, meaning the elements inside a list can be changed\n",
        "*   Lists are constructed with brackets [ ] and commas separating every element in the list"
      ],
      "metadata": {
        "id": "as6d9DKt7Q_1"
      }
    },
    {
      "cell_type": "code",
      "source": [
        "#2 How list is different from an array"
      ],
      "metadata": {
        "id": "Qkjs1_q49JoJ"
      },
      "execution_count": null,
      "outputs": []
    },
    {
      "cell_type": "markdown",
      "source": [
        "Lists\n",
        "\n",
        "*   Lists can be thought of the most general version of a sequence in Python.\n",
        "*   Unlike strings, they are mutable, meaning the elements inside a list can be changed\n",
        "*   Lists are constructed with brackets [ ] and commas separating every element in the list\n",
        "\n",
        "Arrays\n",
        "\n",
        "*   An array in Python, using the array module, is a fixed-size, ordered collection of elements where all elements have the same data type.\n",
        "*   the array module provides a basic form of arrays in Python, for more advanced array operations and functionalities"
      ],
      "metadata": {
        "id": "Hy9-ekV3-Eqn"
      }
    },
    {
      "cell_type": "code",
      "source": [
        "#3 Use the python list append(),copy(), clear, count, extends(), index(), insert(), pop(), reverse(), sort(), min(), max(),and sum()\n",
        "\n",
        "#append()\n",
        "my_list = []\n",
        "my_list.append(1)\n",
        "my_list.append('hello')\n",
        "my_list.append(2.7)\n",
        "print(my_list)"
      ],
      "metadata": {
        "colab": {
          "base_uri": "https://localhost:8080/"
        },
        "id": "I18cLc8HXNrg",
        "outputId": "c58f5c71-1ba9-42d6-a478-f2f2be685635"
      },
      "execution_count": 4,
      "outputs": [
        {
          "output_type": "stream",
          "name": "stdout",
          "text": [
            "[1, 'hello', 2.7]\n"
          ]
        }
      ]
    },
    {
      "cell_type": "code",
      "source": [
        "#copy()\n",
        "my_list = [1, 2, 3, 4, 5, 6, 7, 8]\n",
        "copied_list = original_list.copy()"
      ],
      "metadata": {
        "id": "yovmxZFkZYmQ"
      },
      "execution_count": 8,
      "outputs": []
    },
    {
      "cell_type": "code",
      "source": [
        "#clear\n",
        "my_list = [1, 'hello', 2.7]\n",
        "my_list.clear()\n",
        "print(\"Empty List:\", my_list)"
      ],
      "metadata": {
        "colab": {
          "base_uri": "https://localhost:8080/"
        },
        "id": "DLI3T5dUZ3Ta",
        "outputId": "be3d9e35-2281-4c6f-a0c5-cef34f4b7eca"
      },
      "execution_count": 6,
      "outputs": [
        {
          "output_type": "stream",
          "name": "stdout",
          "text": [
            "Empty List: []\n"
          ]
        }
      ]
    },
    {
      "cell_type": "code",
      "source": [
        "#count\n",
        "my_list = [1, 2, 3, 4, 5, 6, 3, 8]\n",
        "my_list.count(3)"
      ],
      "metadata": {
        "colab": {
          "base_uri": "https://localhost:8080/"
        },
        "id": "3qLL3TIeaYKa",
        "outputId": "4afbcc94-8255-4135-f13d-e1dd10dca98c"
      },
      "execution_count": 13,
      "outputs": [
        {
          "output_type": "execute_result",
          "data": {
            "text/plain": [
              "2"
            ]
          },
          "metadata": {},
          "execution_count": 13
        }
      ]
    },
    {
      "cell_type": "code",
      "source": [
        "#extends()\n",
        "my_list1 = [1, 2, 3]\n",
        "my_list2 = ['a', 'b', 'c']\n",
        "my_list1.extend(my_list2)\n",
        "print(\"Extended List:\", my_list1)"
      ],
      "metadata": {
        "colab": {
          "base_uri": "https://localhost:8080/"
        },
        "id": "3tj2dQTybnio",
        "outputId": "b81fe38f-5adc-4bac-b379-9e6f27694a97"
      },
      "execution_count": 16,
      "outputs": [
        {
          "output_type": "stream",
          "name": "stdout",
          "text": [
            "Extended List: [1, 2, 3, 'a', 'b', 'c']\n"
          ]
        }
      ]
    },
    {
      "cell_type": "code",
      "source": [
        "#index()\n",
        "my_list = [1, 2, 3, 4, 5, 6, 7, 8]\n",
        "index_of_6 = my_list.index(6)\n",
        "print(\"Index of 6:\", index_of_6)"
      ],
      "metadata": {
        "colab": {
          "base_uri": "https://localhost:8080/"
        },
        "id": "_KRNTbW7cSAm",
        "outputId": "2fe86b49-c75c-46c6-a0e5-c236f3483e46"
      },
      "execution_count": 18,
      "outputs": [
        {
          "output_type": "stream",
          "name": "stdout",
          "text": [
            "Index of 6: 5\n"
          ]
        }
      ]
    },
    {
      "cell_type": "code",
      "source": [
        "#insert()\n",
        "my_list = [1, 2, 3, 4, 5, 6, 7, 8]\n",
        "my_list.insert(8, 9)\n",
        "print(\"Modified List:\", my_list)"
      ],
      "metadata": {
        "colab": {
          "base_uri": "https://localhost:8080/"
        },
        "id": "8LU6Q7T4c13G",
        "outputId": "161c1530-ac27-49db-86a6-fb48026ef41c"
      },
      "execution_count": 20,
      "outputs": [
        {
          "output_type": "stream",
          "name": "stdout",
          "text": [
            "Modified List: [1, 2, 3, 4, 5, 6, 7, 8, 9]\n"
          ]
        }
      ]
    },
    {
      "cell_type": "code",
      "source": [
        "#pop()\n",
        "my_list = [1, 2, 3, 4, 5, 6, 7, 8, 9]\n",
        "removed_element = my_list.pop(7)\n",
        "print(\"Modified List:\", my_list)\n",
        "print(\"Removed Element:\", removed_element)"
      ],
      "metadata": {
        "colab": {
          "base_uri": "https://localhost:8080/"
        },
        "id": "VwKE03XZdU2W",
        "outputId": "51eb59aa-905b-40f6-be68-5bcbb3a3ab4d"
      },
      "execution_count": 22,
      "outputs": [
        {
          "output_type": "stream",
          "name": "stdout",
          "text": [
            "Modified List: [1, 2, 3, 4, 5, 6, 7, 9]\n",
            "Removed Element: 8\n"
          ]
        }
      ]
    },
    {
      "cell_type": "code",
      "source": [
        "#reverse\n",
        "my_list = [1, 2, 3, 4, 5, 6, 7, 8, 9]\n",
        "my_list.reverse()\n",
        "print(\"Reversed List:\", my_list)"
      ],
      "metadata": {
        "colab": {
          "base_uri": "https://localhost:8080/"
        },
        "id": "AjhhAxnJdn2h",
        "outputId": "b40dcf66-a2a4-47fc-8e4a-dc587f571ddf"
      },
      "execution_count": 24,
      "outputs": [
        {
          "output_type": "stream",
          "name": "stdout",
          "text": [
            "Reversed List: [9, 8, 7, 6, 5, 4, 3, 2, 1]\n"
          ]
        }
      ]
    },
    {
      "cell_type": "code",
      "source": [
        "#sort()\n",
        "my_list = [3, 1, 4, 1, 5, 9, 2, 6, 5, 3, 5]\n",
        "my_list.sort()\n",
        "print(\"Sorted List:\", my_list)"
      ],
      "metadata": {
        "colab": {
          "base_uri": "https://localhost:8080/"
        },
        "id": "-II7JJZPd6UN",
        "outputId": "80b1d17b-a2e3-47ae-aa7b-69707fbad242"
      },
      "execution_count": 25,
      "outputs": [
        {
          "output_type": "stream",
          "name": "stdout",
          "text": [
            "Sorted List: [1, 1, 2, 3, 3, 4, 5, 5, 5, 6, 9]\n"
          ]
        }
      ]
    },
    {
      "cell_type": "code",
      "source": [
        "#min()\n",
        "my_list = [3, 1, 4, 1, 5, 9, 2, 6, 5, 3, 5]\n",
        "minimum_value = min(my_list)\n",
        "print(\"Minimum Value:\", minimum_value)"
      ],
      "metadata": {
        "colab": {
          "base_uri": "https://localhost:8080/"
        },
        "id": "bfUXVaUxeHwM",
        "outputId": "0ddc6baf-e6c0-43b7-b969-6007dafe8099"
      },
      "execution_count": 26,
      "outputs": [
        {
          "output_type": "stream",
          "name": "stdout",
          "text": [
            "Minimum Value: 1\n"
          ]
        }
      ]
    },
    {
      "cell_type": "code",
      "source": [
        "#max()\n",
        "my_list = [3, 1, 4, 1, 5, 9, 2, 6, 5, 3, 5]\n",
        "maximum_value = max(my_list)\n",
        "print(\"Maximum Value:\", maximum_value)"
      ],
      "metadata": {
        "colab": {
          "base_uri": "https://localhost:8080/"
        },
        "id": "qsZDW7d8eTXH",
        "outputId": "dfa1cd27-5cf7-4782-cb32-87d1640ebad6"
      },
      "execution_count": 28,
      "outputs": [
        {
          "output_type": "stream",
          "name": "stdout",
          "text": [
            "Maximum Value: 9\n"
          ]
        }
      ]
    },
    {
      "cell_type": "code",
      "source": [
        "#sum()\n",
        "my_list = [3, 1, 4, 8, 5, 9, 2, 6, 7, 3, 5]\n",
        "sum_of_elements = sum(my_list)\n",
        "print(\"Sum of Elements:\", sum_of_elements)"
      ],
      "metadata": {
        "colab": {
          "base_uri": "https://localhost:8080/"
        },
        "id": "vBxvgi0uedXg",
        "outputId": "76e85113-1faf-4774-e0d6-74bcad3f4545"
      },
      "execution_count": 30,
      "outputs": [
        {
          "output_type": "stream",
          "name": "stdout",
          "text": [
            "Sum of Elements: 53\n"
          ]
        }
      ]
    },
    {
      "cell_type": "code",
      "source": [
        "#4 How would you divide the list into two parts?\n",
        "my_list = [10, 20, 30, 40, 50, 60, 70, 80, 90, 100]\n",
        "midpoint = len(my_list) // 2\n",
        "First_part = my_list[:midpoint]\n",
        "Second_part = my_list[midpoint:]\n",
        "print(\"First part is:\", First_part)\n",
        "print(\"Second part is:\", Second_part)"
      ],
      "metadata": {
        "colab": {
          "base_uri": "https://localhost:8080/"
        },
        "id": "IwNimdqLeyjO",
        "outputId": "e16ae428-7d27-4705-bc9d-33cc2d039058"
      },
      "execution_count": 36,
      "outputs": [
        {
          "output_type": "stream",
          "name": "stdout",
          "text": [
            "First part is: [10, 20, 30, 40, 50]\n",
            "Second part is: [60, 70, 80, 90, 100]\n"
          ]
        }
      ]
    },
    {
      "cell_type": "code",
      "source": [
        "#5 how to filter the multiple of 3 from a given list and them remove the odd number from the new filtered list.\n",
        "#Eg A = [1,2,3,4,5,6,7,8,9,21,23,24] Filter_lsit = [3,6,9,21,24] output_list = [6,24]\n",
        "my_list = [1, 2, 3, 4, 5, 6, 7, 8, 9, 41, 43, 44]\n",
        "\n",
        "filtered_list = [num for num in my_list if num % 3 == 0]\n",
        "output_list = [num for num in filtered_list if num % 2 == 0]\n",
        "\n",
        "print(\"Filtered List:\", filtered_list)\n",
        "print(\"Output List:\", output_list)"
      ],
      "metadata": {
        "colab": {
          "base_uri": "https://localhost:8080/"
        },
        "id": "yz-NQgBbg_d-",
        "outputId": "edc9bf57-def8-4e06-acd4-182cc4c5fc15"
      },
      "execution_count": 35,
      "outputs": [
        {
          "output_type": "stream",
          "name": "stdout",
          "text": [
            "Filtered List: [3, 6, 9]\n",
            "Output List: [6]\n"
          ]
        }
      ]
    },
    {
      "cell_type": "code",
      "source": [
        "#7 Write python program to join, merge, concatenate the two dictionaries\n",
        "\n",
        " #join\n",
        "dict1 = {'a': 1, 'b': 2}\n",
        "dict2 = {'b': 3, 'c': 4}\n",
        "dict1.update(dict2)\n",
        "print(\"Joined Dictionary:\", dict1)"
      ],
      "metadata": {
        "colab": {
          "base_uri": "https://localhost:8080/"
        },
        "id": "64RY6fnxiIc-",
        "outputId": "f9d709d7-c83b-4fa5-ff3f-4767273e4430"
      },
      "execution_count": 39,
      "outputs": [
        {
          "output_type": "stream",
          "name": "stdout",
          "text": [
            "Joined Dictionary: {'a': 1, 'b': 3, 'c': 4}\n"
          ]
        }
      ]
    },
    {
      "cell_type": "code",
      "source": [
        "#merge\n",
        "dict1 = {'a': 1, 'b': 2}\n",
        "dict2 = {'b': 3, 'c': 4}\n",
        "merged_dict = dict(dict1, **dict2)\n",
        "print(\"Merged Dictionary:\", merged_dict)"
      ],
      "metadata": {
        "colab": {
          "base_uri": "https://localhost:8080/"
        },
        "id": "MIOfp7BTiuko",
        "outputId": "60041631-6007-4eab-cbda-dff05d0890bf"
      },
      "execution_count": 38,
      "outputs": [
        {
          "output_type": "stream",
          "name": "stdout",
          "text": [
            "Merged Dictionary: {'a': 1, 'b': 3, 'c': 4}\n"
          ]
        }
      ]
    },
    {
      "cell_type": "code",
      "source": [
        "# concatenate\n",
        "dict1 = {'a': 1, 'b': 2}\n",
        "dict2 = {'b': 3, 'c': 4}\n",
        "concatenated_dict = {**dict1, **dict2}\n",
        "print(\"Concatenated Dictionary:\", concatenated_dict)"
      ],
      "metadata": {
        "colab": {
          "base_uri": "https://localhost:8080/"
        },
        "id": "yVJ_2WRijA7w",
        "outputId": "1dc452b4-7818-4929-f2a0-cd79895ba1ff"
      },
      "execution_count": 40,
      "outputs": [
        {
          "output_type": "stream",
          "name": "stdout",
          "text": [
            "Concatenated Dictionary: {'a': 1, 'b': 3, 'c': 4}\n"
          ]
        }
      ]
    },
    {
      "cell_type": "code",
      "source": [
        "#8 How would you check a specific keys from the dictionary??\n",
        "#To check if a specific key exists in a dictionary in Python, you can use the in operator or the get() method.\n",
        "\n",
        "# In operator\n",
        "my_dict = {'a': 1, 'b': 2, 'c': 3, 'd': 4}\n",
        "if 'b' in my_dict:\n",
        "    print(\"Key 'b' exists in the dictionary.\")\n",
        "else:\n",
        "    print(\"Key 'b' does not exist in the dictionary.\")"
      ],
      "metadata": {
        "colab": {
          "base_uri": "https://localhost:8080/"
        },
        "id": "IhC_sb8LjM9Z",
        "outputId": "2a4f81aa-fcb9-4116-f8b8-e334011d670c"
      },
      "execution_count": 42,
      "outputs": [
        {
          "output_type": "stream",
          "name": "stdout",
          "text": [
            "Key 'b' exists in the dictionary.\n"
          ]
        }
      ]
    },
    {
      "cell_type": "code",
      "source": [
        "#11 How would you sum the list of tuple and sum of tuple of list\n",
        "#list = [(2,3),(4,5),(6,4)] output= [5,9,10]\n",
        "#tuple =([2,3],[4,5],[6,4]) output = (5,9,10)\n",
        "\n",
        "# List of tuples\n",
        "list_tuple = ([2, 3], [4, 5], [6, 4])\n",
        "sum_result = tuple(sum(sublist) for sublist in list_tuple)\n",
        "print(\"Sum of lists in the tuple:\", sum_result)\n",
        "\n",
        "# Tuple of lists\n",
        "tuple_list = [(2, 3), (4, 5), (6, 4)]\n",
        "sum_result = [sum(t) for t in tuple_list]\n",
        "print(\"Sum of tuples in the list:\", sum_result)"
      ],
      "metadata": {
        "colab": {
          "base_uri": "https://localhost:8080/"
        },
        "id": "PD6DvsJqpYDk",
        "outputId": "ccdeb039-bb63-4d5b-fed3-7fa281848f9b"
      },
      "execution_count": 58,
      "outputs": [
        {
          "output_type": "stream",
          "name": "stdout",
          "text": [
            "Sum of lists in the tuple: (5, 9, 10)\n",
            "Sum of tuples in the list: [5, 9, 10]\n"
          ]
        }
      ]
    },
    {
      "cell_type": "code",
      "source": [
        "#12 FIND THE FREQUENCY OF THE KEYS IN THE GIVEN DICTIONARY\n",
        "dict = {'a': 1, 'b': 2, 'c': 2, 'd': 3, 'e': 2, 'f': 4}\n",
        "\n",
        "frequencies = {}\n",
        "for value in dict.values():\n",
        "    if value in frequencies:\n",
        "        frequencies[value] += 1\n",
        "    else:\n",
        "         frequencies[value] = 1\n",
        "\n",
        "for value, frequency in frequencies.items():\n",
        "    print(f\"The frequency of value {value} is: {frequency}\")"
      ],
      "metadata": {
        "colab": {
          "base_uri": "https://localhost:8080/"
        },
        "id": "_nMa_EPRqPki",
        "outputId": "1c0934d3-872c-48b5-f276-4594a3c72b17"
      },
      "execution_count": 54,
      "outputs": [
        {
          "output_type": "stream",
          "name": "stdout",
          "text": [
            "The frequency of value 1 is: 1\n",
            "The frequency of value 2 is: 3\n",
            "The frequency of value 3 is: 1\n",
            "The frequency of value 4 is: 1\n"
          ]
        }
      ]
    },
    {
      "cell_type": "code",
      "source": [
        "#10 We know that tuple is immutable, do any thing and add element to the tuples.\n",
        "tuple1 = (1, 2, 3)\n",
        "tuple2 = (4, 5, 6)\n",
        "# Concatenate tuples\n",
        "new_tuple = tuple1 + tuple2\n",
        "print(new_tuple)"
      ],
      "metadata": {
        "colab": {
          "base_uri": "https://localhost:8080/"
        },
        "id": "6qKdGJylwSIp",
        "outputId": "3867f82e-2bd8-47b3-ab99-8a84a168e111"
      },
      "execution_count": 59,
      "outputs": [
        {
          "output_type": "stream",
          "name": "stdout",
          "text": [
            "(1, 2, 3, 4, 5, 6)\n"
          ]
        }
      ]
    }
  ]
}